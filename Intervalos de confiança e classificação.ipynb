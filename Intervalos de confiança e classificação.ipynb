{
 "cells": [
  {
   "cell_type": "markdown",
   "id": "2a6b9e02",
   "metadata": {},
   "source": [
    "# Intervalos de confiança e classificação"
   ]
  },
  {
   "cell_type": "markdown",
   "id": "b3cbc158",
   "metadata": {},
   "source": [
    "Vamos aplicar os intervalos de confiança aplicados a um modelo de Machine Learning de classificação. "
   ]
  },
  {
   "cell_type": "markdown",
   "id": "ad2b8280",
   "metadata": {},
   "source": [
    "Pode-se utilizar os intervalos de confiança para melhorar a avaliação do algoritmo. É muito importante para artigos científicos."
   ]
  },
  {
   "cell_type": "code",
   "execution_count": 40,
   "id": "6fdb804f",
   "metadata": {},
   "outputs": [],
   "source": [
    "import pandas as pd\n",
    "import numpy as np\n",
    "from sklearn.model_selection import train_test_split\n",
    "from sklearn.naive_bayes import GaussianNB\n",
    "from sklearn.linear_model import LogisticRegression\n",
    "from sklearn.ensemble import RandomForestClassifier\n",
    "from sklearn.metrics import accuracy_score\n",
    "from sklearn.model_selection import cross_val_score, KFold\n",
    "import seaborn as sns\n",
    "from scipy import stats"
   ]
  },
  {
   "cell_type": "code",
   "execution_count": 18,
   "id": "f688c5f0",
   "metadata": {},
   "outputs": [],
   "source": [
    "dataset = pd.read_csv('credit_data.csv')"
   ]
  },
  {
   "cell_type": "code",
   "execution_count": 19,
   "id": "9e54192c",
   "metadata": {},
   "outputs": [],
   "source": [
    "dataset.dropna(inplace=True)"
   ]
  },
  {
   "cell_type": "code",
   "execution_count": 20,
   "id": "115f3d06",
   "metadata": {},
   "outputs": [
    {
     "data": {
      "text/html": [
       "<div>\n",
       "<style scoped>\n",
       "    .dataframe tbody tr th:only-of-type {\n",
       "        vertical-align: middle;\n",
       "    }\n",
       "\n",
       "    .dataframe tbody tr th {\n",
       "        vertical-align: top;\n",
       "    }\n",
       "\n",
       "    .dataframe thead th {\n",
       "        text-align: right;\n",
       "    }\n",
       "</style>\n",
       "<table border=\"1\" class=\"dataframe\">\n",
       "  <thead>\n",
       "    <tr style=\"text-align: right;\">\n",
       "      <th></th>\n",
       "      <th>i#clientid</th>\n",
       "      <th>income</th>\n",
       "      <th>age</th>\n",
       "      <th>loan</th>\n",
       "      <th>c#default</th>\n",
       "    </tr>\n",
       "  </thead>\n",
       "  <tbody>\n",
       "    <tr>\n",
       "      <th>0</th>\n",
       "      <td>1</td>\n",
       "      <td>66155.925095</td>\n",
       "      <td>59.017015</td>\n",
       "      <td>8106.532131</td>\n",
       "      <td>0</td>\n",
       "    </tr>\n",
       "    <tr>\n",
       "      <th>1</th>\n",
       "      <td>2</td>\n",
       "      <td>34415.153966</td>\n",
       "      <td>48.117153</td>\n",
       "      <td>6564.745018</td>\n",
       "      <td>0</td>\n",
       "    </tr>\n",
       "    <tr>\n",
       "      <th>2</th>\n",
       "      <td>3</td>\n",
       "      <td>57317.170063</td>\n",
       "      <td>63.108049</td>\n",
       "      <td>8020.953296</td>\n",
       "      <td>0</td>\n",
       "    </tr>\n",
       "    <tr>\n",
       "      <th>3</th>\n",
       "      <td>4</td>\n",
       "      <td>42709.534201</td>\n",
       "      <td>45.751972</td>\n",
       "      <td>6103.642260</td>\n",
       "      <td>0</td>\n",
       "    </tr>\n",
       "    <tr>\n",
       "      <th>4</th>\n",
       "      <td>5</td>\n",
       "      <td>66952.688845</td>\n",
       "      <td>18.584336</td>\n",
       "      <td>8770.099235</td>\n",
       "      <td>1</td>\n",
       "    </tr>\n",
       "  </tbody>\n",
       "</table>\n",
       "</div>"
      ],
      "text/plain": [
       "   i#clientid        income        age         loan  c#default\n",
       "0           1  66155.925095  59.017015  8106.532131          0\n",
       "1           2  34415.153966  48.117153  6564.745018          0\n",
       "2           3  57317.170063  63.108049  8020.953296          0\n",
       "3           4  42709.534201  45.751972  6103.642260          0\n",
       "4           5  66952.688845  18.584336  8770.099235          1"
      ]
     },
     "execution_count": 20,
     "metadata": {},
     "output_type": "execute_result"
    }
   ],
   "source": [
    "dataset.head()"
   ]
  },
  {
   "cell_type": "markdown",
   "id": "caa844c3",
   "metadata": {},
   "source": [
    "Vamos avaliar os modelos para previsão de pessoas que vão pagar o empréstimo ou não."
   ]
  },
  {
   "cell_type": "code",
   "execution_count": 21,
   "id": "1be3e319",
   "metadata": {},
   "outputs": [],
   "source": [
    "X = dataset.iloc[:, 1:4].values"
   ]
  },
  {
   "cell_type": "code",
   "execution_count": 22,
   "id": "d482d676",
   "metadata": {},
   "outputs": [],
   "source": [
    "y = dataset.iloc[:, 4].values"
   ]
  },
  {
   "cell_type": "code",
   "execution_count": 23,
   "id": "9261d5a0",
   "metadata": {},
   "outputs": [],
   "source": [
    "resultados_naive_bayes_cv = []\n",
    "resultados_naive_bayes_cv_300 = []\n",
    "resultados_logistica_cv = []\n",
    "resultados_logistica_cv_300 = []\n",
    "resultados_forest_cv = []\n",
    "resultados_forest_cv_300 = []"
   ]
  },
  {
   "cell_type": "code",
   "execution_count": 24,
   "id": "b0b726d2",
   "metadata": {},
   "outputs": [],
   "source": [
    "for i in range(30):\n",
    "    kfold = KFold(n_splits = 10, shuffle = True, random_state = i)\n",
    "    \n",
    "    naive_bayes = GaussianNB()\n",
    "    scores = cross_val_score(naive_bayes, X, y, cv=kfold)\n",
    "    resultados_naive_bayes_cv_300.append(scores)\n",
    "    resultados_naive_bayes_cv.append(scores.mean())\n",
    "    \n",
    "    logistica = LogisticRegression()\n",
    "    scores = cross_val_score(logistica, X, y, cv=kfold)\n",
    "    resultados_logistica_cv_300.append(scores)\n",
    "    resultados_logistica_cv.append(scores.mean())\n",
    "    \n",
    "    random_forest = RandomForestClassifier()\n",
    "    scores = cross_val_score(random_forest, X, y, cv=kfold)\n",
    "    resultados_forest_cv_300.append(scores)\n",
    "    resultados_forest_cv.append(scores.mean())"
   ]
  },
  {
   "cell_type": "code",
   "execution_count": 25,
   "id": "ed9de248",
   "metadata": {},
   "outputs": [
    {
     "data": {
      "text/plain": [
       "(30, 30)"
      ]
     },
     "execution_count": 25,
     "metadata": {},
     "output_type": "execute_result"
    }
   ],
   "source": [
    "len(resultados_naive_bayes_cv), len(resultados_naive_bayes_cv_300)"
   ]
  },
  {
   "cell_type": "code",
   "execution_count": 26,
   "id": "04d6f961",
   "metadata": {},
   "outputs": [
    {
     "name": "stdout",
     "output_type": "stream",
     "text": [
      "[0.9248618090452261, 0.9249170854271356, 0.9248894472361808, 0.9228819095477387, 0.9248718592964824, 0.9253894472361809, 0.9243844221105528, 0.9248894472361808, 0.9248718592964824, 0.9238894472361808, 0.9253844221105527, 0.9244020100502512, 0.9253743718592965, 0.924394472361809, 0.9253869346733667, 0.9248819095477387, 0.9258844221105527, 0.924894472361809, 0.9238819095477387, 0.9258844221105529, 0.9258944723618091, 0.9253894472361811, 0.92436432160804, 0.9263844221105527, 0.9228944723618092, 0.9253894472361809, 0.9248869346733668, 0.9253919597989949, 0.9253819095477386, 0.9258844221105527]\n"
     ]
    }
   ],
   "source": [
    "print(resultados_naive_bayes_cv) # Está no formato de matriz"
   ]
  },
  {
   "cell_type": "code",
   "execution_count": 28,
   "id": "ec38c60b",
   "metadata": {},
   "outputs": [],
   "source": [
    "resultados_naive_bayes_cv = np.array(resultados_naive_bayes_cv)\n",
    "resultados_naive_bayes_cv_300 = np.array(np.asarray(resultados_naive_bayes_cv_300).reshape(-1))\n",
    "resultados_logistica_cv = np.array(resultados_logistica_cv)\n",
    "resultados_logistica_cv_300 = np.array(np.asarray(resultados_logistica_cv_300).reshape(-1))\n",
    "resultados_forest_cv = np.array(resultados_forest_cv)\n",
    "resultados_forest_cv_300 = np.array(np.asarray(resultados_forest_cv_300).reshape(-1))"
   ]
  },
  {
   "cell_type": "code",
   "execution_count": 29,
   "id": "5faf1137",
   "metadata": {},
   "outputs": [
    {
     "data": {
      "text/plain": [
       "(300,)"
      ]
     },
     "execution_count": 29,
     "metadata": {},
     "output_type": "execute_result"
    }
   ],
   "source": [
    "resultados_naive_bayes_cv_300.shape"
   ]
  },
  {
   "cell_type": "code",
   "execution_count": 32,
   "id": "ed2459a9",
   "metadata": {},
   "outputs": [
    {
     "name": "stderr",
     "output_type": "stream",
     "text": [
      "C:\\Users\\Francisco\\anaconda3\\lib\\site-packages\\seaborn\\distributions.py:2557: FutureWarning: `distplot` is a deprecated function and will be removed in a future version. Please adapt your code to use either `displot` (a figure-level function with similar flexibility) or `histplot` (an axes-level function for histograms).\n",
      "  warnings.warn(msg, FutureWarning)\n"
     ]
    },
    {
     "data": {
      "text/plain": [
       "<AxesSubplot:ylabel='Density'>"
      ]
     },
     "execution_count": 32,
     "metadata": {},
     "output_type": "execute_result"
    },
    {
     "data": {
      "image/png": "[encoded data removed]",
      "text/plain": [
       "<Figure size 432x288 with 1 Axes>"
      ]
     },
     "metadata": {
      "needs_background": "light"
     },
     "output_type": "display_data"
    }
   ],
   "source": [
    "sns.distplot(resultados_naive_bayes_cv)"
   ]
  },
  {
   "cell_type": "code",
   "execution_count": 33,
   "id": "2f864c92",
   "metadata": {},
   "outputs": [
    {
     "name": "stderr",
     "output_type": "stream",
     "text": [
      "C:\\Users\\Francisco\\anaconda3\\lib\\site-packages\\seaborn\\distributions.py:2557: FutureWarning: `distplot` is a deprecated function and will be removed in a future version. Please adapt your code to use either `displot` (a figure-level function with similar flexibility) or `histplot` (an axes-level function for histograms).\n",
      "  warnings.warn(msg, FutureWarning)\n"
     ]
    },
    {
     "data": {
      "text/plain": [
       "<AxesSubplot:ylabel='Density'>"
      ]
     },
     "execution_count": 33,
     "metadata": {},
     "output_type": "execute_result"
    },
    {
     "data": {
      "image/png": "[encoded data removed]",
      "text/plain": [
       "<Figure size 432x288 with 1 Axes>"
      ]
     },
     "metadata": {
      "needs_background": "light"
     },
     "output_type": "display_data"
    }
   ],
   "source": [
    "sns.distplot(resultados_naive_bayes_cv_300)"
   ]
  },
  {
   "cell_type": "code",
   "execution_count": 34,
   "id": "8edb1497",
   "metadata": {},
   "outputs": [
    {
     "name": "stderr",
     "output_type": "stream",
     "text": [
      "C:\\Users\\Francisco\\anaconda3\\lib\\site-packages\\seaborn\\distributions.py:2557: FutureWarning: `distplot` is a deprecated function and will be removed in a future version. Please adapt your code to use either `displot` (a figure-level function with similar flexibility) or `histplot` (an axes-level function for histograms).\n",
      "  warnings.warn(msg, FutureWarning)\n"
     ]
    },
    {
     "data": {
      "text/plain": [
       "<AxesSubplot:ylabel='Density'>"
      ]
     },
     "execution_count": 34,
     "metadata": {},
     "output_type": "execute_result"
    },
    {
     "data": {
      "image/png": "[encoded data removed]",
      "text/plain": [
       "<Figure size 432x288 with 1 Axes>"
      ]
     },
     "metadata": {
      "needs_background": "light"
     },
     "output_type": "display_data"
    }
   ],
   "source": [
    "sns.distplot(resultados_logistica_cv)"
   ]
  },
  {
   "cell_type": "code",
   "execution_count": 35,
   "id": "33dd0b06",
   "metadata": {},
   "outputs": [
    {
     "name": "stderr",
     "output_type": "stream",
     "text": [
      "C:\\Users\\Francisco\\anaconda3\\lib\\site-packages\\seaborn\\distributions.py:2557: FutureWarning: `distplot` is a deprecated function and will be removed in a future version. Please adapt your code to use either `displot` (a figure-level function with similar flexibility) or `histplot` (an axes-level function for histograms).\n",
      "  warnings.warn(msg, FutureWarning)\n"
     ]
    },
    {
     "data": {
      "text/plain": [
       "<AxesSubplot:ylabel='Density'>"
      ]
     },
     "execution_count": 35,
     "metadata": {},
     "output_type": "execute_result"
    },
    {
     "data": {
      "image/png": "[encoded data removed]",
      "text/plain": [
       "<Figure size 432x288 with 1 Axes>"
      ]
     },
     "metadata": {
      "needs_background": "light"
     },
     "output_type": "display_data"
    }
   ],
   "source": [
    "sns.distplot(resultados_logistica_cv_300)"
   ]
  },
  {
   "cell_type": "markdown",
   "id": "d266bf6e",
   "metadata": {},
   "source": [
    "Têm-se uma discussão muito importante sobre a aplicação desses intervalos de confiança para estrutura de dados que não seguem a distribuições normais. Porém, os pesquisadores comprovaram que de certa forma consegue um resultado interessante. É a teoria central do limite, que diz: \"quanto mais experimentos realizados, tem a chance de chegar uma distribuição normal.\""
   ]
  },
  {
   "cell_type": "code",
   "execution_count": 36,
   "id": "11cae98b",
   "metadata": {},
   "outputs": [
    {
     "name": "stderr",
     "output_type": "stream",
     "text": [
      "C:\\Users\\Francisco\\anaconda3\\lib\\site-packages\\seaborn\\distributions.py:2557: FutureWarning: `distplot` is a deprecated function and will be removed in a future version. Please adapt your code to use either `displot` (a figure-level function with similar flexibility) or `histplot` (an axes-level function for histograms).\n",
      "  warnings.warn(msg, FutureWarning)\n"
     ]
    },
    {
     "data": {
      "text/plain": [
       "<AxesSubplot:ylabel='Density'>"
      ]
     },
     "execution_count": 36,
     "metadata": {},
     "output_type": "execute_result"
    },
    {
     "data": {
      "image/png": "[encoded data removed]",
      "text/plain": [
       "<Figure size 432x288 with 1 Axes>"
      ]
     },
     "metadata": {
      "needs_background": "light"
     },
     "output_type": "display_data"
    }
   ],
   "source": [
    "sns.distplot(resultados_forest_cv)"
   ]
  },
  {
   "cell_type": "code",
   "execution_count": 37,
   "id": "92559ac8",
   "metadata": {},
   "outputs": [
    {
     "name": "stderr",
     "output_type": "stream",
     "text": [
      "C:\\Users\\Francisco\\anaconda3\\lib\\site-packages\\seaborn\\distributions.py:2557: FutureWarning: `distplot` is a deprecated function and will be removed in a future version. Please adapt your code to use either `displot` (a figure-level function with similar flexibility) or `histplot` (an axes-level function for histograms).\n",
      "  warnings.warn(msg, FutureWarning)\n"
     ]
    },
    {
     "data": {
      "text/plain": [
       "<AxesSubplot:ylabel='Density'>"
      ]
     },
     "execution_count": 37,
     "metadata": {},
     "output_type": "execute_result"
    },
    {
     "data": {
      "image/png": "[encoded data removed]",
      "text/plain": [
       "<Figure size 432x288 with 1 Axes>"
      ]
     },
     "metadata": {
      "needs_background": "light"
     },
     "output_type": "display_data"
    }
   ],
   "source": [
    "sns.distplot(resultados_forest_cv_300)"
   ]
  },
  {
   "cell_type": "code",
   "execution_count": 38,
   "id": "7abd2115",
   "metadata": {},
   "outputs": [
    {
     "data": {
      "text/plain": [
       "(0.9249359296482411, 0.9137817420435511, 0.9866304020100501)"
      ]
     },
     "execution_count": 38,
     "metadata": {},
     "output_type": "execute_result"
    }
   ],
   "source": [
    "resultados_naive_bayes_cv.mean(), resultados_logistica_cv.mean(), resultados_forest_cv.mean()"
   ]
  },
  {
   "cell_type": "code",
   "execution_count": 42,
   "id": "6e8af290",
   "metadata": {},
   "outputs": [
    {
     "data": {
      "text/plain": [
       "(0.08641071566366061, 0.38801026116292653, 0.1594342362913955)"
      ]
     },
     "execution_count": 42,
     "metadata": {},
     "output_type": "execute_result"
    }
   ],
   "source": [
    "# Coeficiente de variacao dos dados em %\n",
    "stats.variation(resultados_naive_bayes_cv)*100, stats.variation(resultados_logistica_cv)*100, stats.variation(resultados_forest_cv)*100"
   ]
  },
  {
   "cell_type": "markdown",
   "id": "c520f4fc",
   "metadata": {},
   "source": [
    "# Cálculos de intervalo de confiança"
   ]
  },
  {
   "cell_type": "code",
   "execution_count": 43,
   "id": "61a421bb",
   "metadata": {},
   "outputs": [],
   "source": [
    "from scipy.stats import t\n",
    "from scipy.stats import norm"
   ]
  },
  {
   "cell_type": "markdown",
   "id": "3551a5ab",
   "metadata": {},
   "source": [
    "### Naive Bayes"
   ]
  },
  {
   "cell_type": "markdown",
   "id": "14fc65f3",
   "metadata": {},
   "source": [
    "Utilizando a distribuição t-student"
   ]
  },
  {
   "cell_type": "code",
   "execution_count": 44,
   "id": "7c7d1299",
   "metadata": {},
   "outputs": [],
   "source": [
    "intervalo_naive_bayes_t = t.interval(0.95, len(resultados_naive_bayes_cv)-1, resultados_naive_bayes_cv.mean(), stats.sem(resultados_naive_bayes_cv, ddof=0))"
   ]
  },
  {
   "cell_type": "code",
   "execution_count": 45,
   "id": "7d1e36f4",
   "metadata": {},
   "outputs": [
    {
     "data": {
      "text/plain": [
       "(0.9246374871248957, 0.9252343721715865)"
      ]
     },
     "execution_count": 45,
     "metadata": {},
     "output_type": "execute_result"
    }
   ],
   "source": [
    "intervalo_naive_bayes_t"
   ]
  },
  {
   "cell_type": "code",
   "execution_count": 46,
   "id": "9c48e6d1",
   "metadata": {},
   "outputs": [
    {
     "data": {
      "text/plain": [
       "0.0002984425233454324"
      ]
     },
     "execution_count": 46,
     "metadata": {},
     "output_type": "execute_result"
    }
   ],
   "source": [
    "abs(resultados_naive_bayes_cv.mean() - intervalo_naive_bayes_t[0]) # Cálculo da margem de erro"
   ]
  },
  {
   "cell_type": "markdown",
   "id": "71cac550",
   "metadata": {},
   "source": [
    "Utilizando a distribuição normal"
   ]
  },
  {
   "cell_type": "code",
   "execution_count": 47,
   "id": "4a86580d",
   "metadata": {},
   "outputs": [],
   "source": [
    "intervalo_naive_bayes_norm = norm.interval(0.95, resultados_naive_bayes_cv_300.mean(), stats.sem(resultados_naive_bayes_cv_300))"
   ]
  },
  {
   "cell_type": "code",
   "execution_count": 48,
   "id": "472c11d5",
   "metadata": {},
   "outputs": [
    {
     "data": {
      "text/plain": [
       "(0.9229333893644709, 0.9269384699320113)"
      ]
     },
     "execution_count": 48,
     "metadata": {},
     "output_type": "execute_result"
    }
   ],
   "source": [
    "intervalo_naive_bayes_norm"
   ]
  },
  {
   "cell_type": "code",
   "execution_count": 49,
   "id": "8d7f9d45",
   "metadata": {},
   "outputs": [
    {
     "data": {
      "text/plain": [
       "0.0020025402837702266"
      ]
     },
     "execution_count": 49,
     "metadata": {},
     "output_type": "execute_result"
    }
   ],
   "source": [
    "abs(resultados_naive_bayes_cv_300.mean() - intervalo_naive_bayes_norm[0]) # Cálculo da margem de erro"
   ]
  },
  {
   "cell_type": "markdown",
   "id": "c22ee1dd",
   "metadata": {},
   "source": [
    "Percebe-se que a margem é maior. Confirmando que, quanto mais dados melhor é a representação dos dados."
   ]
  },
  {
   "cell_type": "markdown",
   "id": "adf6494a",
   "metadata": {},
   "source": [
    "### Regressão Logistica"
   ]
  },
  {
   "cell_type": "markdown",
   "id": "0bfa0329",
   "metadata": {},
   "source": [
    "T-student"
   ]
  },
  {
   "cell_type": "code",
   "execution_count": 50,
   "id": "9fd0efaf",
   "metadata": {},
   "outputs": [
    {
     "data": {
      "text/plain": [
       "0.0013239364476194115"
      ]
     },
     "execution_count": 50,
     "metadata": {},
     "output_type": "execute_result"
    }
   ],
   "source": [
    "intervalo_Logistica = t.interval(0.95, len(resultados_logistica_cv)-1, resultados_logistica_cv.mean(), stats.sem(resultados_logistica_cv, ddof=0))\n",
    "intervalo_Logistica\n",
    "abs(resultados_logistica_cv.mean() - intervalo_Logistica[0]) # Cálculo da margem de erro"
   ]
  },
  {
   "cell_type": "markdown",
   "id": "402ca6c3",
   "metadata": {},
   "source": [
    "Normal"
   ]
  },
  {
   "cell_type": "code",
   "execution_count": 51,
   "id": "71864cd5",
   "metadata": {},
   "outputs": [
    {
     "data": {
      "text/plain": [
       "0.0023624760415116297"
      ]
     },
     "execution_count": 51,
     "metadata": {},
     "output_type": "execute_result"
    }
   ],
   "source": [
    "intervalo_logistica_norm = norm.interval(0.95, resultados_logistica_cv_300.mean(), stats.sem(resultados_logistica_cv_300))\n",
    "intervalo_logistica_norm\n",
    "abs(resultados_logistica_cv_300.mean() - intervalo_logistica_norm[0]) # Cálculo da margem de erro"
   ]
  },
  {
   "cell_type": "markdown",
   "id": "dd95a147",
   "metadata": {},
   "source": [
    "### Random Forest"
   ]
  },
  {
   "cell_type": "markdown",
   "id": "6bd90932",
   "metadata": {},
   "source": [
    "T-student"
   ]
  },
  {
   "cell_type": "code",
   "execution_count": 52,
   "id": "fcb16ba0",
   "metadata": {},
   "outputs": [
    {
     "data": {
      "text/plain": [
       "0.0005873778030734966"
      ]
     },
     "execution_count": 52,
     "metadata": {},
     "output_type": "execute_result"
    }
   ],
   "source": [
    "intervalo_forest = t.interval(0.95, len(resultados_forest_cv)-1, resultados_forest_cv.mean(), stats.sem(resultados_forest_cv, ddof=0))\n",
    "intervalo_forest\n",
    "abs(resultados_forest_cv.mean() - intervalo_forest[0]) # Cálculo da margem de erro"
   ]
  },
  {
   "cell_type": "markdown",
   "id": "1af425e4",
   "metadata": {},
   "source": [
    "Normal"
   ]
  },
  {
   "cell_type": "code",
   "execution_count": 53,
   "id": "465bc986",
   "metadata": {},
   "outputs": [
    {
     "data": {
      "text/plain": [
       "0.07521113600801066"
      ]
     },
     "execution_count": 53,
     "metadata": {},
     "output_type": "execute_result"
    }
   ],
   "source": [
    "intervalo_forest_norm = norm.interval(0.95, resultados_forest_cv_300.mean(), stats.sem(resultados_forest_cv_300))\n",
    "intervalo_forest_norm\n",
    "abs(resultados_forest_cv_300.mean() - intervalo_logistica_norm[0]) # Cálculo da margem de erro"
   ]
  },
  {
   "cell_type": "markdown",
   "id": "cfb3b446",
   "metadata": {},
   "source": [
    "Até o momento o menor resultado para os intervalos é o modelo Naive Bayes para o teste T-student."
   ]
  },
  {
   "cell_type": "markdown",
   "id": "b1bb91ec",
   "metadata": {},
   "source": [
    "Logo, quando a variância dos testes de intervalo de confiança é menor possível de acordo com avaliação do Kfold e cross validation, percebe-se que quando rodar novamente os novos valores estarão presente na faixa de confiabilidade determinada a partir do intervalo. Garantindo que, os modelos que variam menos, determinam que novos resultados estarão dentro da faixa de confiabilidade de 95% estipulada."
   ]
  },
  {
   "cell_type": "code",
   "execution_count": null,
   "id": "9aa0f7a3",
   "metadata": {},
   "outputs": [],
   "source": []
  }
 ],
 "metadata": {
  "kernelspec": {
   "display_name": "Python 3",
   "language": "python",
   "name": "python3"
  },
  "language_info": {
   "codemirror_mode": {
    "name": "ipython",
    "version": 3
   },
   "file_extension": ".py",
   "mimetype": "text/x-python",
   "name": "python",
   "nbconvert_exporter": "python",
   "pygments_lexer": "ipython3",
   "version": "3.8.8"
  }
 },
 "nbformat": 4,
 "nbformat_minor": 5
}
